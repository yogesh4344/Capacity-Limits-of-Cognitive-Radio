{
  "nbformat": 4,
  "nbformat_minor": 0,
  "metadata": {
    "colab": {
      "provenance": [],
      "authorship_tag": "ABX9TyOr1adoSZKMFAxnPc+DW/5B",
      "include_colab_link": true
    },
    "kernelspec": {
      "name": "python3",
      "display_name": "Python 3"
    },
    "language_info": {
      "name": "python"
    }
  },
  "cells": [
    {
      "cell_type": "markdown",
      "metadata": {
        "id": "view-in-github",
        "colab_type": "text"
      },
      "source": [
        "<a href=\"https://colab.research.google.com/github/yogesh4344/Capacity-Limits-of-Cognitive-Radio/blob/master/Untitled4.ipynb\" target=\"_parent\"><img src=\"https://colab.research.google.com/assets/colab-badge.svg\" alt=\"Open In Colab\"/></a>"
      ]
    },
    {
      "cell_type": "code",
      "source": [
        "!pip install groq"
      ],
      "metadata": {
        "colab": {
          "base_uri": "https://localhost:8080/"
        },
        "id": "qTzcFZ142epn",
        "outputId": "5a06bc65-0202-4fd9-fc3f-b9b5d50b5391"
      },
      "execution_count": null,
      "outputs": [
        {
          "output_type": "stream",
          "name": "stdout",
          "text": [
            "Requirement already satisfied: groq in /usr/local/lib/python3.11/dist-packages (0.16.0)\n",
            "Requirement already satisfied: anyio<5,>=3.5.0 in /usr/local/lib/python3.11/dist-packages (from groq) (3.7.1)\n",
            "Requirement already satisfied: distro<2,>=1.7.0 in /usr/local/lib/python3.11/dist-packages (from groq) (1.9.0)\n",
            "Requirement already satisfied: httpx<1,>=0.23.0 in /usr/local/lib/python3.11/dist-packages (from groq) (0.28.1)\n",
            "Requirement already satisfied: pydantic<3,>=1.9.0 in /usr/local/lib/python3.11/dist-packages (from groq) (2.10.6)\n",
            "Requirement already satisfied: sniffio in /usr/local/lib/python3.11/dist-packages (from groq) (1.3.1)\n",
            "Requirement already satisfied: typing-extensions<5,>=4.10 in /usr/local/lib/python3.11/dist-packages (from groq) (4.12.2)\n",
            "Requirement already satisfied: idna>=2.8 in /usr/local/lib/python3.11/dist-packages (from anyio<5,>=3.5.0->groq) (3.10)\n",
            "Requirement already satisfied: certifi in /usr/local/lib/python3.11/dist-packages (from httpx<1,>=0.23.0->groq) (2024.12.14)\n",
            "Requirement already satisfied: httpcore==1.* in /usr/local/lib/python3.11/dist-packages (from httpx<1,>=0.23.0->groq) (1.0.7)\n",
            "Requirement already satisfied: h11<0.15,>=0.13 in /usr/local/lib/python3.11/dist-packages (from httpcore==1.*->httpx<1,>=0.23.0->groq) (0.14.0)\n",
            "Requirement already satisfied: annotated-types>=0.6.0 in /usr/local/lib/python3.11/dist-packages (from pydantic<3,>=1.9.0->groq) (0.7.0)\n",
            "Requirement already satisfied: pydantic-core==2.27.2 in /usr/local/lib/python3.11/dist-packages (from pydantic<3,>=1.9.0->groq) (2.27.2)\n"
          ]
        }
      ]
    },
    {
      "cell_type": "code",
      "source": [
        "from groq import Groq\n",
        "import os\n",
        "import pandas as pd\n",
        "\n",
        "os.environ[\"GROQ_API_KEY\"] = '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'\n",
        "\n",
        "client = Groq()\n",
        "model='llama-3.2-3b-preview'\n",
        "\n",
        "def get_response(prompt, model=model):\n",
        "    messages = [{\"role\":\"user\",\"content\":prompt}]\n",
        "    client = Groq()\n",
        "    response = client.chat.completions.create(model=model,messages=messages)\n",
        "    return response.choices[0].message.content"
      ],
      "metadata": {
        "id": "5lFY0NmW2hKl"
      },
      "execution_count": 63,
      "outputs": []
    },
    {
      "cell_type": "code",
      "source": [
        "# Load the datasets\n",
        "train_df = pd.read_csv(\"train.csv\")\n",
        "test_df = pd.read_csv(\"test.csv\")"
      ],
      "metadata": {
        "id": "yAdf8GAsVNIT"
      },
      "execution_count": 66,
      "outputs": []
    },
    {
      "cell_type": "code",
      "source": [
        "# Define input and output column names\n",
        "input_column_names = train_df.columns[1:3]  # Columns 1 and 2 for input\n",
        "output_column_names = train_df.columns[6] # Columns 3, 4, 5, 6 for output\n",
        "\n",
        "output_column_names"
      ],
      "metadata": {
        "colab": {
          "base_uri": "https://localhost:8080/",
          "height": 35
        },
        "id": "c1tpZbzDVNgx",
        "outputId": "d88c9c04-e3c3-41ed-a197-4ce498be07b9"
      },
      "execution_count": 70,
      "outputs": [
        {
          "output_type": "execute_result",
          "data": {
            "text/plain": [
              "'language'"
            ],
            "application/vnd.google.colaboratory.intrinsic+json": {
              "type": "string"
            }
          },
          "metadata": {},
          "execution_count": 70
        }
      ]
    },
    {
      "cell_type": "code",
      "source": [
        "few_shot_examples = \"\"\n",
        "for index, row in train_df.head(5).iterrows():  # Use the first 5 examples for few-shot learning\n",
        "    # Construct input string from columns 1 and 2\n",
        "    input_str = \" \".join([str(row[col]) for col in input_column_names])\n",
        "    # Construct output string from columns 3, 4, 5, 6\n",
        "    #output_str = \" \".join([str(row[col]) for col in output_column_names])\n",
        "    output_str = (str(row[output_column_names]))\n",
        "    few_shot_examples += f\"Input: {input_str}\\nOutput: {output_str}\\n\\n\"\n",
        "\n",
        "few_shot_examples"
      ],
      "metadata": {
        "colab": {
          "base_uri": "https://localhost:8080/",
          "height": 226
        },
        "id": "RJonLMQYdnC-",
        "outputId": "ee53005e-f662-4de2-ba12-42be2e93b239"
      },
      "execution_count": 75,
      "outputs": [
        {
          "output_type": "execute_result",
          "data": {
            "text/plain": [
              "\"Input: Discrepancia de facturación en Google Workspace Estimado equipo de soporte de TI,\\n\\nEstoy escribiendo para informar un monto de facturación incorrecto en mi suscripción de Google Workspace Business Standard bajo la cuenta <acc_num>. Por favor, revise y ajuste la factura. Espero su pronta respuesta.\\n\\nSaludos,\\n\\n<name>\\nOutput: es\\n\\nInput: Urgent Consultation Request for Critical IT Issues Dear IT Services Support Team, I hope this message finds you well. My name is <name> and I am currently experiencing critical issues with our server administration, which are significantly impacting our operations. We rely heavily on your IT Consulting Service for our ongoing technical needs. Therefore, we urgently need your expert assistance to resolve these issues as quickly as possible. Time is of the essence because our operations have come to a standstill. Please contact us at your earliest convenience, either via email or phone at <tel_num>. The swift resolution of this situation is imperative to minimize any further disruption to our business. Thank you for your prompt attention to this matter. Kind regards, <name>\\nOutput: en\\n\\nInput: Consulta sobre Servicios de Consultoría en TI Estimado Servicio de Atención al Cliente,\\n\\nMi nombre es <name>, y estoy interesado en obtener más información sobre sus Servicios de Consultoría en TI, centrándome específicamente en el desarrollo de software y la administración de servidores. Agradecería información detallada sobre los servicios ofrecidos, precios y proceso de compromiso. ¿Podría proporcionarme esta información o direccionarme a un representante que pueda ayudarme con mi consulta?\\n\\nGracias por su asistencia.\\n\\nAtentamente,\\n\\n<name>\\n<tel_num>\\n<email_address>\\nOutput: es\\n\\nInput: Demande de mise à jour des dossiers Cher service client, \\n\\nJe vous écris pour demander une mise à jour de notre système de gestion des dossiers des employés en accord avec nos opérations de service de conseil en informatique en cours. Le système actuel nécessite des améliorations pour maximiser l'efficacité et garantir une intégration harmonieuse avec notre infrastructure informatique existante. Dans le cadre de cette demande, nous souhaiterions discuter de l'étendue des services et de toute exigence supplémentaire nécessaire à la mise en œuvre de ces mises à jour.\\n\\nVeuillez me faire savoir un moment approprié pour une discussion détaillée. Nous vous remercions de votre assistance rapide dans cette affaire. \\n\\nMerci, \\n\\n<name>\\n<acc_num>\\nOutput: fr\\n\\nInput: Issues with Slack connection affecting team communication today Dear Customer Support Team,\\n\\nI am encountering challenges when attempting to activate my Kaspersky Internet Security 2024 product. Despite adhering to the suggested guidelines, I am still facing complications. My account number is <acc_num>. Could you kindly assist me with the activation process at your earliest opportunity? You can reach me at <tel_num> or through email at <email>.\\n\\nThank you for your swift support.\\n\\nSincerely,\\n<name>\\nOutput: en\\n\\n\""
            ],
            "application/vnd.google.colaboratory.intrinsic+json": {
              "type": "string"
            }
          },
          "metadata": {},
          "execution_count": 75
        }
      ]
    },
    {
      "cell_type": "code",
      "source": [
        "results = []\n",
        "for index, row in test_df.head(1).iterrows():  # Iterate over the first 5 rows of test_df\n",
        "    # Construct input string from columns 1 and 2 of test_df\n",
        "    input_str = \" \".join([str(row[col]) for col in test_df.columns[1:3]])\n",
        "    prompt = f\"{few_shot_examples}Input: {input_str}\\nOutput:\"\n",
        "    #print(prompt)\n",
        "    response = get_response(prompt)\n",
        "    results.append(response)\n",
        "\n",
        "print(results)"
      ],
      "metadata": {
        "colab": {
          "base_uri": "https://localhost:8080/"
        },
        "id": "NnXPFFFJeFuJ",
        "outputId": "0b8bd574-10bb-492c-9a46-89a33ebb7bfa"
      },
      "execution_count": 77,
      "outputs": [
        {
          "output_type": "stream",
          "name": "stdout",
          "text": [
            "['Ecco i risultati degli output:\\n\\n1. Input: Discrepancia de facturación en Google Workspace Estimado equipo de soporte de TI,\\nOutput: es\\n\\n2. Input: Urgent Consultation Request for Critical IT Issues\\nOutput: en\\n\\n3. Input: Consulta sobre Servicios de Consultoría en TI\\nOutput: es\\n\\n4. Input: Demande de mise à jour des dossiers\\nOutput: fr\\n\\n5. Input: Issues with Slack connection affecting team communication today\\nOutput: en\\n\\n6. Input: Urgente: problema con la funzione di condivisione dello schermo di Zoom\\nOutput: it']\n"
          ]
        }
      ]
    },
    {
      "cell_type": "code",
      "source": [
        "# Create a DataFrame for results using the first 5 rows of test_df\n",
        "results_df = pd.DataFrame({'input': test_df[test_df.columns[1]].head(1), 'prediction': results})\n",
        "\n",
        "# Save the results\n",
        "results_df.to_csv(\"predictions.csv\", index=False)\n",
        "\n",
        "print(\"Predictions saved to predictions.csv\")"
      ],
      "metadata": {
        "id": "3vm9DBlreb8W"
      },
      "execution_count": null,
      "outputs": []
    }
  ]
}